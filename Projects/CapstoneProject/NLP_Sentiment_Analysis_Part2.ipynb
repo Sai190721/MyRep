{
 "cells": [
  {
   "cell_type": "markdown",
   "id": "7d2f800b",
   "metadata": {
    "slideshow": {
     "slide_type": "slide"
    }
   },
   "source": [
    "Import Libraries"
   ]
  },
  {
   "cell_type": "code",
   "execution_count": 1,
   "id": "933bda26",
   "metadata": {
    "slideshow": {
     "slide_type": "subslide"
    }
   },
   "outputs": [],
   "source": [
    "# imports\n",
    "import pandas as pd\n",
    "import numpy as np\n",
    "import matplotlib.pyplot as plt\n",
    "import seaborn as sns\n",
    "import pickle\n",
    "import time\n",
    "\n",
    "from sklearn.pipeline import Pipeline\n",
    "from sklearn.metrics import classification_report\n",
    "from sklearn.feature_extraction.text import CountVectorizer\n",
    "from sklearn.feature_extraction.text import TfidfTransformer\n",
    "\n",
    "from sklearn.naive_bayes import MultinomialNB\n",
    "from sklearn.linear_model import LogisticRegression\n",
    "from sklearn.svm import SVC\n",
    "from sklearn.tree import DecisionTreeClassifier\n",
    "from sklearn.ensemble import RandomForestClassifier, AdaBoostClassifier\n",
    "\n",
    "\n",
    "from sklearn.linear_model import SGDClassifier\n",
    "\n",
    "from sklearn.cluster import KMeans\n",
    "from sklearn.cluster import AgglomerativeClustering\n",
    "from sklearn.metrics import confusion_matrix\n",
    "from sklearn.metrics import accuracy_score\n",
    "from sklearn.metrics import precision_score\n",
    "from sklearn.metrics import recall_score\n",
    "from sklearn.metrics import average_precision_score\n",
    "from sklearn.metrics import roc_auc_score\n",
    "from sklearn.metrics import precision_recall_curve\n",
    "from sklearn.metrics import roc_curve\n",
    "from sklearn.metrics import auc"
   ]
  },
  {
   "cell_type": "markdown",
   "id": "79cf5919",
   "metadata": {
    "slideshow": {
     "slide_type": "slide"
    }
   },
   "source": [
    "Loading the pickled data"
   ]
  },
  {
   "cell_type": "code",
   "execution_count": 2,
   "id": "97021c29",
   "metadata": {
    "slideshow": {
     "slide_type": "subslide"
    }
   },
   "outputs": [],
   "source": [
    "#getting the data \n",
    "# importing pickled data \n",
    "sup_df=pd.read_pickle('Pickledfiles/cl_fs_imdb_df.pkl') \n",
    "#sup_df=sup_df[['feature_selected','label']] # cleaned and feature selected reviews \n",
    "#sup_df.shape \n",
    "\n"
   ]
  },
  {
   "cell_type": "code",
   "execution_count": 3,
   "id": "eaf25b50",
   "metadata": {
    "slideshow": {
     "slide_type": "subslide"
    }
   },
   "outputs": [
    {
     "data": {
      "text/html": [
       "<div>\n",
       "<style scoped>\n",
       "    .dataframe tbody tr th:only-of-type {\n",
       "        vertical-align: middle;\n",
       "    }\n",
       "\n",
       "    .dataframe tbody tr th {\n",
       "        vertical-align: top;\n",
       "    }\n",
       "\n",
       "    .dataframe thead th {\n",
       "        text-align: right;\n",
       "    }\n",
       "</style>\n",
       "<table border=\"1\" class=\"dataframe\">\n",
       "  <thead>\n",
       "    <tr style=\"text-align: right;\">\n",
       "      <th></th>\n",
       "      <th>review</th>\n",
       "      <th>label</th>\n",
       "    </tr>\n",
       "  </thead>\n",
       "  <tbody>\n",
       "    <tr>\n",
       "      <th>0</th>\n",
       "      <td>bromwel high cartoon comedi ran time program s...</td>\n",
       "      <td>pos</td>\n",
       "    </tr>\n",
       "    <tr>\n",
       "      <th>1</th>\n",
       "      <td>homeless or houseless georg carlin state issu ...</td>\n",
       "      <td>pos</td>\n",
       "    </tr>\n",
       "    <tr>\n",
       "      <th>2</th>\n",
       "      <td>brilliant over act lesley ann warren best dram...</td>\n",
       "      <td>pos</td>\n",
       "    </tr>\n",
       "    <tr>\n",
       "      <th>3</th>\n",
       "      <td>easili underr film inn brook cannon sure flaw ...</td>\n",
       "      <td>pos</td>\n",
       "    </tr>\n",
       "    <tr>\n",
       "      <th>4</th>\n",
       "      <td>typic mel brook film much le slapstick movi ac...</td>\n",
       "      <td>pos</td>\n",
       "    </tr>\n",
       "  </tbody>\n",
       "</table>\n",
       "</div>"
      ],
      "text/plain": [
       "                                              review label\n",
       "0  bromwel high cartoon comedi ran time program s...   pos\n",
       "1  homeless or houseless georg carlin state issu ...   pos\n",
       "2  brilliant over act lesley ann warren best dram...   pos\n",
       "3  easili underr film inn brook cannon sure flaw ...   pos\n",
       "4  typic mel brook film much le slapstick movi ac...   pos"
      ]
     },
     "execution_count": 3,
     "metadata": {},
     "output_type": "execute_result"
    }
   ],
   "source": [
    "sup_df.head()"
   ]
  },
  {
   "cell_type": "code",
   "execution_count": 4,
   "id": "46b4dd31",
   "metadata": {
    "slideshow": {
     "slide_type": "subslide"
    }
   },
   "outputs": [
    {
     "data": {
      "text/plain": [
       "(50000, 2)"
      ]
     },
     "execution_count": 4,
     "metadata": {},
     "output_type": "execute_result"
    }
   ],
   "source": [
    "sup_df.shape"
   ]
  },
  {
   "cell_type": "code",
   "execution_count": 5,
   "id": "8ea67dec",
   "metadata": {
    "slideshow": {
     "slide_type": "subslide"
    }
   },
   "outputs": [],
   "source": [
    "#getting the training data \n",
    "# importing pickled data \n",
    "train_df=pd.read_pickle('Pickledfiles/cl_train_df.pkl') \n",
    " \n"
   ]
  },
  {
   "cell_type": "code",
   "execution_count": 6,
   "id": "1e645a38",
   "metadata": {
    "slideshow": {
     "slide_type": "subslide"
    }
   },
   "outputs": [
    {
     "data": {
      "text/plain": [
       "(25000, 2)"
      ]
     },
     "execution_count": 6,
     "metadata": {},
     "output_type": "execute_result"
    }
   ],
   "source": [
    "train_df.shape"
   ]
  },
  {
   "cell_type": "code",
   "execution_count": 7,
   "id": "3f188a0d",
   "metadata": {
    "slideshow": {
     "slide_type": "subslide"
    }
   },
   "outputs": [],
   "source": [
    "#getting the test data \n",
    "# importing pickled data \n",
    "test_df=pd.read_pickle('Pickledfiles/cl_test_df.pkl') \n",
    " "
   ]
  },
  {
   "cell_type": "code",
   "execution_count": 8,
   "id": "1f19fda8",
   "metadata": {
    "slideshow": {
     "slide_type": "subslide"
    }
   },
   "outputs": [
    {
     "data": {
      "text/plain": [
       "(25000, 2)"
      ]
     },
     "execution_count": 8,
     "metadata": {},
     "output_type": "execute_result"
    }
   ],
   "source": [
    "test_df.shape"
   ]
  },
  {
   "cell_type": "markdown",
   "id": "4113f48b",
   "metadata": {
    "slideshow": {
     "slide_type": "slide"
    }
   },
   "source": [
    "Function to split the text / review"
   ]
  },
  {
   "cell_type": "code",
   "execution_count": 9,
   "id": "786b252e",
   "metadata": {
    "slideshow": {
     "slide_type": "subslide"
    }
   },
   "outputs": [],
   "source": [
    "#since we are using cleaned data, only splitting is required.\n",
    "\n",
    "def review_split(text):\n",
    "    import string\n",
    "    return text.split() "
   ]
  },
  {
   "cell_type": "code",
   "execution_count": 10,
   "id": "cf651cec",
   "metadata": {
    "slideshow": {
     "slide_type": "slide"
    }
   },
   "outputs": [],
   "source": [
    "# Prepare the data"
   ]
  },
  {
   "cell_type": "code",
   "execution_count": 11,
   "id": "29ba60f8",
   "metadata": {
    "slideshow": {
     "slide_type": "subslide"
    }
   },
   "outputs": [],
   "source": [
    "# preparing data\n",
    "x = sup_df.review\n",
    "# encode the target strings\n",
    "from sklearn.preprocessing import LabelEncoder\n",
    "le = LabelEncoder()\n",
    "\n",
    "y = le.fit_transform(sup_df.label)"
   ]
  },
  {
   "cell_type": "code",
   "execution_count": 12,
   "id": "65bb0087",
   "metadata": {
    "slideshow": {
     "slide_type": "subslide"
    }
   },
   "outputs": [],
   "source": [
    "# preparing training data\n",
    "x_train = train_df.review\n",
    "# encode the target strings\n",
    "from sklearn.preprocessing import LabelEncoder\n",
    "le = LabelEncoder()\n",
    "\n",
    "y_train = le.fit_transform(train_df.label)"
   ]
  },
  {
   "cell_type": "code",
   "execution_count": 13,
   "id": "9510e17d",
   "metadata": {
    "slideshow": {
     "slide_type": "subslide"
    }
   },
   "outputs": [],
   "source": [
    "# preparing testing data\n",
    "x_test = test_df.review\n",
    "# encode the target strings\n",
    "from sklearn.preprocessing import LabelEncoder\n",
    "le = LabelEncoder()\n",
    "\n",
    "y_test = le.fit_transform(test_df.label)"
   ]
  },
  {
   "cell_type": "code",
   "execution_count": 14,
   "id": "269f65f2",
   "metadata": {
    "slideshow": {
     "slide_type": "subslide"
    }
   },
   "outputs": [
    {
     "name": "stdout",
     "output_type": "stream",
     "text": [
      "Number of unique words in consolidated dataset: \n",
      "49576\n",
      "Number of unique words in Training dataset: \n",
      "24898\n",
      "Number of unique words in Testing dataset: \n",
      "24795\n"
     ]
    }
   ],
   "source": [
    "# Total number of unique words\n",
    "print(\"Number of unique words in consolidated dataset: \")\n",
    "print(len(np.unique(np.hstack(x))))\n",
    "print(\"Number of unique words in Training dataset: \")\n",
    "print(len(np.unique(np.hstack(x_train))))\n",
    "print(\"Number of unique words in Testing dataset: \")\n",
    "print(len(np.unique(np.hstack(x_test))))"
   ]
  },
  {
   "cell_type": "markdown",
   "id": "629e9259",
   "metadata": {
    "slideshow": {
     "slide_type": "slide"
    }
   },
   "source": [
    "Assigning Train and Text variables"
   ]
  },
  {
   "cell_type": "code",
   "execution_count": 15,
   "id": "357272b1",
   "metadata": {
    "slideshow": {
     "slide_type": "subslide"
    }
   },
   "outputs": [
    {
     "name": "stdout",
     "output_type": "stream",
     "text": [
      "25000 25000 50000\n"
     ]
    }
   ],
   "source": [
    "msg_train = x_train\n",
    "msg_test = x_test\n",
    "label_train = y_train\n",
    "label_test = y_test\n",
    "\n",
    "print(len(msg_train), len(msg_test), len(msg_train) + len(msg_test))"
   ]
  },
  {
   "cell_type": "markdown",
   "id": "93265b4c",
   "metadata": {
    "slideshow": {
     "slide_type": "slide"
    }
   },
   "source": [
    "# ML Classifiers to be tested\n",
    "1) Naive Bayes Classifier\n",
    "\n",
    "2) Decision Trees\n",
    "\n",
    "3) Random Forest\n",
    "\n",
    "4) Logistic Regression\n",
    "\n",
    "5) SGD Classifier\n",
    "\n",
    "6) ADA Boost "
   ]
  },
  {
   "cell_type": "markdown",
   "id": "c0dbc4d5",
   "metadata": {
    "slideshow": {
     "slide_type": "slide"
    }
   },
   "source": [
    "# Creating Pipeline"
   ]
  },
  {
   "cell_type": "markdown",
   "id": "ffb75eaa",
   "metadata": {
    "slideshow": {
     "slide_type": "subslide"
    }
   },
   "source": [
    "Pipeline is a utility that provides a way to automate a machine learning workflow. It works by allowing several transformers to be chained together. One can also add an estimator at the end of the pipeline. Data flows from the start of the pipeline to its end, and each time it is transformed and fed to the next component. A Pipeline object has two main methods:\n",
    "\n",
    "fit_transform: this same method is called for each transformer and each time the result is fed into the next transformer;\n",
    "fit_predict: if your pipeline ends with an estimator, then as before the data is transformed until it arrives at the last step, where it is fed into the estimator and fit_predict is called on the estimator."
   ]
  },
  {
   "cell_type": "markdown",
   "id": "56b7e33c",
   "metadata": {
    "slideshow": {
     "slide_type": "slide"
    }
   },
   "source": [
    "# Multinomial NB"
   ]
  },
  {
   "cell_type": "code",
   "execution_count": 16,
   "id": "2389baed",
   "metadata": {
    "slideshow": {
     "slide_type": "subslide"
    }
   },
   "outputs": [
    {
     "name": "stdout",
     "output_type": "stream",
     "text": [
      "              precision    recall  f1-score   support\n",
      "\n",
      "           0       0.86      0.84      0.85     12705\n",
      "           1       0.84      0.86      0.85     12295\n",
      "\n",
      "    accuracy                           0.85     25000\n",
      "   macro avg       0.85      0.85      0.85     25000\n",
      "weighted avg       0.85      0.85      0.85     25000\n",
      " time taken: 1.1174187660217285\n"
     ]
    }
   ],
   "source": [
    "# Multinomial NB\n",
    "pipelineNB = Pipeline([\n",
    "    ('bow', CountVectorizer(analyzer=review_split)),  # strings to token integer counts\n",
    "    ('tfidf', TfidfTransformer()),  # integer counts to weighted TF-IDF scores\n",
    "    ('classifier', MultinomialNB()),  # train on TF-IDF vectors w/ Naive Bayes classifier\n",
    "])\n",
    "start_time = time.time()\n",
    "pipelineNB.fit(msg_train,label_train)\n",
    "cal_time1 = (time.time()- start_time)\n",
    "\n",
    "predictionsNB = pipelineNB.predict(msg_test)\n",
    "print(classification_report(predictionsNB,label_test),'time taken:',cal_time1)"
   ]
  },
  {
   "cell_type": "code",
   "execution_count": 17,
   "id": "0df2f102",
   "metadata": {
    "slideshow": {
     "slide_type": "subslide"
    }
   },
   "outputs": [
    {
     "data": {
      "text/plain": [
       "0.84996"
      ]
     },
     "execution_count": 17,
     "metadata": {},
     "output_type": "execute_result"
    }
   ],
   "source": [
    "# check the accuracy of the model\n",
    "from sklearn.metrics import accuracy_score\n",
    "accuracy1 = accuracy_score(label_test, predictionsNB)\n",
    "accuracy1"
   ]
  },
  {
   "cell_type": "markdown",
   "id": "3843b2ee",
   "metadata": {
    "slideshow": {
     "slide_type": "slide"
    }
   },
   "source": [
    "# DecisionTreeClassifier"
   ]
  },
  {
   "cell_type": "code",
   "execution_count": 18,
   "id": "94899423",
   "metadata": {
    "slideshow": {
     "slide_type": "subslide"
    }
   },
   "outputs": [
    {
     "name": "stdout",
     "output_type": "stream",
     "text": [
      "              precision    recall  f1-score   support\n",
      "\n",
      "           0       0.72      0.72      0.72     12590\n",
      "           1       0.71      0.72      0.72     12410\n",
      "\n",
      "    accuracy                           0.72     25000\n",
      "   macro avg       0.72      0.72      0.72     25000\n",
      "weighted avg       0.72      0.72      0.72     25000\n",
      " time taken: 16.32056474685669\n"
     ]
    }
   ],
   "source": [
    "#DecisionTreeClassifier\n",
    "pipelineDT = Pipeline([\n",
    "    ('bow', CountVectorizer(analyzer=review_split)),  # strings to token integer counts\n",
    "    #('tfidf', TfidfTransformer()),  # integer counts to weighted TF-IDF scores\n",
    "    ('classifier',  DecisionTreeClassifier()),  \n",
    "])\n",
    "start_time = time.time()\n",
    "pipelineDT.fit(msg_train,label_train)\n",
    "cal_time2 = (time.time()- start_time)\n",
    "predictionsDT = pipelineDT.predict(msg_test)\n",
    "\n",
    "print(classification_report(predictionsDT,label_test),'time taken:',cal_time2)"
   ]
  },
  {
   "cell_type": "code",
   "execution_count": 19,
   "id": "3240c6cc",
   "metadata": {
    "slideshow": {
     "slide_type": "subslide"
    }
   },
   "outputs": [
    {
     "data": {
      "text/plain": [
       "0.7176"
      ]
     },
     "execution_count": 19,
     "metadata": {},
     "output_type": "execute_result"
    }
   ],
   "source": [
    "# check the accuracy of the model\n",
    "from sklearn.metrics import accuracy_score\n",
    "accuracy2 = accuracy_score(label_test, predictionsDT)\n",
    "accuracy2"
   ]
  },
  {
   "cell_type": "markdown",
   "id": "e92b7d6e",
   "metadata": {
    "slideshow": {
     "slide_type": "slide"
    }
   },
   "source": [
    "# RandomForestClassifier"
   ]
  },
  {
   "cell_type": "code",
   "execution_count": 20,
   "id": "db55ceae",
   "metadata": {
    "slideshow": {
     "slide_type": "subslide"
    }
   },
   "outputs": [
    {
     "name": "stdout",
     "output_type": "stream",
     "text": [
      "              precision    recall  f1-score   support\n",
      "\n",
      "           0       0.85      0.84      0.84     12704\n",
      "           1       0.84      0.85      0.84     12296\n",
      "\n",
      "    accuracy                           0.84     25000\n",
      "   macro avg       0.84      0.84      0.84     25000\n",
      "weighted avg       0.84      0.84      0.84     25000\n",
      " time taken: 45.48243737220764\n"
     ]
    }
   ],
   "source": [
    "pipelineRF = Pipeline([\n",
    "    ('bow', CountVectorizer(analyzer=review_split)),  # strings to token integer counts\n",
    "    ('tfidf', TfidfTransformer()),  # integer counts to weighted TF-IDF scores\n",
    "    ('classifier',  RandomForestClassifier()),\n",
    "]) \n",
    "start_time = time.time()\n",
    "pipelineRF.fit(msg_train,label_train)\n",
    "cal_time3 = (time.time()- start_time)\n",
    "predictionsRF = pipelineRF.predict(msg_test)\n",
    "\n",
    "print(classification_report(predictionsRF,label_test),'time taken:',cal_time3)"
   ]
  },
  {
   "cell_type": "code",
   "execution_count": 22,
   "id": "a7520237",
   "metadata": {
    "slideshow": {
     "slide_type": "subslide"
    }
   },
   "outputs": [
    {
     "data": {
      "text/plain": [
       "0.84336"
      ]
     },
     "execution_count": 22,
     "metadata": {},
     "output_type": "execute_result"
    }
   ],
   "source": [
    "# check the accuracy of the model\n",
    "from sklearn.metrics import accuracy_score\n",
    "accuracy3 = accuracy_score(label_test, predictionsRF)\n",
    "accuracy3"
   ]
  },
  {
   "cell_type": "markdown",
   "id": "34a08ae3",
   "metadata": {
    "slideshow": {
     "slide_type": "slide"
    }
   },
   "source": [
    "# Logistic Regression"
   ]
  },
  {
   "cell_type": "code",
   "execution_count": 23,
   "id": "61cdcd23",
   "metadata": {
    "slideshow": {
     "slide_type": "subslide"
    }
   },
   "outputs": [
    {
     "name": "stdout",
     "output_type": "stream",
     "text": [
      "              precision    recall  f1-score   support\n",
      "\n",
      "           0       0.88      0.89      0.88     12369\n",
      "           1       0.89      0.88      0.88     12631\n",
      "\n",
      "    accuracy                           0.88     25000\n",
      "   macro avg       0.88      0.88      0.88     25000\n",
      "weighted avg       0.88      0.88      0.88     25000\n",
      "\n"
     ]
    }
   ],
   "source": [
    "pipelineLR = Pipeline([\n",
    "    ('bow', CountVectorizer(analyzer=review_split)),  # strings to token integer counts\n",
    "    ('tfidf', TfidfTransformer()),  # integer counts to weighted TF-IDF scores\n",
    "    ('classifier',  LogisticRegression()), \n",
    "])\n",
    "start_time = time.time()\n",
    "\n",
    "pipelineLR.fit(msg_train,label_train)\n",
    "cal_time4 = (time.time()- start_time)\n",
    "predictionsLR = pipelineLR.predict(msg_test)\n",
    "\n",
    "print(classification_report(predictionsLR,label_test))"
   ]
  },
  {
   "cell_type": "code",
   "execution_count": 24,
   "id": "18b01dfd",
   "metadata": {
    "slideshow": {
     "slide_type": "subslide"
    }
   },
   "outputs": [
    {
     "data": {
      "text/plain": [
       "0.88196"
      ]
     },
     "execution_count": 24,
     "metadata": {},
     "output_type": "execute_result"
    }
   ],
   "source": [
    "# check the accuracy of the model\n",
    "from sklearn.metrics import accuracy_score\n",
    "accuracy4 = accuracy_score(label_test, predictionsLR)\n",
    "accuracy4"
   ]
  },
  {
   "cell_type": "markdown",
   "id": "334c7c52",
   "metadata": {
    "slideshow": {
     "slide_type": "slide"
    }
   },
   "source": [
    "# SGD Classifier"
   ]
  },
  {
   "cell_type": "code",
   "execution_count": 25,
   "id": "556f3aef",
   "metadata": {
    "slideshow": {
     "slide_type": "subslide"
    }
   },
   "outputs": [
    {
     "name": "stdout",
     "output_type": "stream",
     "text": [
      "              precision    recall  f1-score   support\n",
      "\n",
      "           0       0.87      0.89      0.88     12270\n",
      "           1       0.89      0.87      0.88     12730\n",
      "\n",
      "    accuracy                           0.88     25000\n",
      "   macro avg       0.88      0.88      0.88     25000\n",
      "weighted avg       0.88      0.88      0.88     25000\n",
      "\n"
     ]
    }
   ],
   "source": [
    "pipelineSGD = Pipeline([\n",
    "    ('bow', CountVectorizer(analyzer=review_split)),  # strings to token integer counts\n",
    "    ('tfidf', TfidfTransformer()),  # integer counts to weighted TF-IDF scores\n",
    "    ('classifier',  SGDClassifier()),  # train on TF-IDF vectors w/  DecisionTreeClassifier\n",
    "])\n",
    "start_time = time.time()\n",
    "\n",
    "pipelineSGD.fit(msg_train,label_train)\n",
    "cal_time5 = (time.time()- start_time)\n",
    "predictionsSGD = pipelineSGD.predict(msg_test)\n",
    "\n",
    "print(classification_report(predictionsSGD,label_test))"
   ]
  },
  {
   "cell_type": "code",
   "execution_count": 26,
   "id": "4ce18542",
   "metadata": {
    "slideshow": {
     "slide_type": "subslide"
    }
   },
   "outputs": [
    {
     "data": {
      "text/plain": [
       "0.88112"
      ]
     },
     "execution_count": 26,
     "metadata": {},
     "output_type": "execute_result"
    }
   ],
   "source": [
    "# check the accuracy of the model\n",
    "from sklearn.metrics import accuracy_score\n",
    "accuracy5 = accuracy_score(label_test, predictionsSGD)\n",
    "accuracy5"
   ]
  },
  {
   "cell_type": "markdown",
   "id": "deef4dae",
   "metadata": {},
   "source": [
    "# ADABoost Classifier"
   ]
  },
  {
   "cell_type": "code",
   "execution_count": 27,
   "id": "21a0e1e7",
   "metadata": {},
   "outputs": [
    {
     "name": "stdout",
     "output_type": "stream",
     "text": [
      "              precision    recall  f1-score   support\n",
      "\n",
      "           0       0.78      0.83      0.80     11661\n",
      "           1       0.84      0.79      0.82     13339\n",
      "\n",
      "    accuracy                           0.81     25000\n",
      "   macro avg       0.81      0.81      0.81     25000\n",
      "weighted avg       0.81      0.81      0.81     25000\n",
      " time taken: 11.247740268707275\n"
     ]
    }
   ],
   "source": [
    "pipelineADA = Pipeline([\n",
    "    ('bow', CountVectorizer(analyzer=review_split)),  # strings to token integer counts\n",
    "    ('tfidf', TfidfTransformer()),  # integer counts to weighted TF-IDF scores\n",
    "    ('classifier',  AdaBoostClassifier()),\n",
    "]) \n",
    "start_time = time.time()\n",
    "pipelineADA.fit(msg_train,label_train)\n",
    "cal_time6 = (time.time()- start_time)\n",
    "predictionsADA = pipelineADA.predict(msg_test)\n",
    "\n",
    "print(classification_report(predictionsADA,label_test),'time taken:',cal_time6)"
   ]
  },
  {
   "cell_type": "code",
   "execution_count": 28,
   "id": "1dabaa59",
   "metadata": {},
   "outputs": [
    {
     "data": {
      "text/plain": [
       "0.81092"
      ]
     },
     "execution_count": 28,
     "metadata": {},
     "output_type": "execute_result"
    }
   ],
   "source": [
    "# check the accuracy of the model\n",
    "from sklearn.metrics import accuracy_score\n",
    "accuracy6 = accuracy_score(label_test, predictionsADA)\n",
    "accuracy6"
   ]
  },
  {
   "cell_type": "code",
   "execution_count": 31,
   "id": "afb63113",
   "metadata": {
    "slideshow": {
     "slide_type": "slide"
    }
   },
   "outputs": [
    {
     "data": {
      "text/html": [
       "<div>\n",
       "<style scoped>\n",
       "    .dataframe tbody tr th:only-of-type {\n",
       "        vertical-align: middle;\n",
       "    }\n",
       "\n",
       "    .dataframe tbody tr th {\n",
       "        vertical-align: top;\n",
       "    }\n",
       "\n",
       "    .dataframe thead th {\n",
       "        text-align: right;\n",
       "    }\n",
       "</style>\n",
       "<table border=\"1\" class=\"dataframe\">\n",
       "  <thead>\n",
       "    <tr style=\"text-align: right;\">\n",
       "      <th></th>\n",
       "      <th>model</th>\n",
       "      <th>accuracy</th>\n",
       "      <th>time</th>\n",
       "    </tr>\n",
       "  </thead>\n",
       "  <tbody>\n",
       "    <tr>\n",
       "      <th>0</th>\n",
       "      <td>naive bayes</td>\n",
       "      <td>0.85</td>\n",
       "      <td>1.1174187660217285</td>\n",
       "    </tr>\n",
       "    <tr>\n",
       "      <th>1</th>\n",
       "      <td>DecisionTreeClassifier</td>\n",
       "      <td>0.72</td>\n",
       "      <td>16.32056474685669</td>\n",
       "    </tr>\n",
       "    <tr>\n",
       "      <th>2</th>\n",
       "      <td>Random Forest</td>\n",
       "      <td>0.84</td>\n",
       "      <td>45.48243737220764</td>\n",
       "    </tr>\n",
       "    <tr>\n",
       "      <th>3</th>\n",
       "      <td>Logistic Regression</td>\n",
       "      <td>0.88</td>\n",
       "      <td>1.3339083194732666</td>\n",
       "    </tr>\n",
       "    <tr>\n",
       "      <th>4</th>\n",
       "      <td>SGD Classifier</td>\n",
       "      <td>0.88</td>\n",
       "      <td>1.1444263458251953</td>\n",
       "    </tr>\n",
       "    <tr>\n",
       "      <th>5</th>\n",
       "      <td>ADA Boost</td>\n",
       "      <td>0.81</td>\n",
       "      <td>1.1444263458251953</td>\n",
       "    </tr>\n",
       "  </tbody>\n",
       "</table>\n",
       "</div>"
      ],
      "text/plain": [
       "                    model accuracy                time\n",
       "0             naive bayes     0.85  1.1174187660217285\n",
       "1  DecisionTreeClassifier     0.72   16.32056474685669\n",
       "2           Random Forest     0.84   45.48243737220764\n",
       "3     Logistic Regression     0.88  1.3339083194732666\n",
       "4          SGD Classifier     0.88  1.1444263458251953\n",
       "5               ADA Boost     0.81  1.1444263458251953"
      ]
     },
     "execution_count": 31,
     "metadata": {},
     "output_type": "execute_result"
    }
   ],
   "source": [
    "alist = [('naive bayes',round(accuracy1,2),cal_time1),\n",
    "          ('DecisionTreeClassifier',round(accuracy2,2),cal_time2),\n",
    "          ('Random Forest',round(accuracy3,2),cal_time3),\n",
    "         ('Logistic Regression',round(accuracy4,2),cal_time4),\n",
    "         ('SGD Classifier',round(accuracy5,2),cal_time5),\n",
    "          ('ADA Boost',round(accuracy6,2),cal_time5)]\n",
    "                    \n",
    "    \n",
    "results = pd.DataFrame(np.array(alist),columns=['model','accuracy','time'])\n",
    "results"
   ]
  },
  {
   "cell_type": "markdown",
   "id": "f1e2215a",
   "metadata": {
    "slideshow": {
     "slide_type": "slide"
    }
   },
   "source": [
    "Function to capture the different scores"
   ]
  },
  {
   "cell_type": "code",
   "execution_count": 32,
   "id": "8e0fd9d1",
   "metadata": {
    "slideshow": {
     "slide_type": "subslide"
    }
   },
   "outputs": [],
   "source": [
    "def show_summary_report(actual, prediction):\n",
    "\n",
    "    if isinstance(actual, pd.Series):\n",
    "        actual = actual.values\n",
    "    if actual.dtype.name == 'object':\n",
    "        actual = actual.astype(int)\n",
    "    if prediction.dtype.name == 'object':\n",
    "        prediction = prediction.astype(int)\n",
    "\n",
    "    accuracy_ = accuracy_score(actual, prediction)\n",
    "    precision_ = precision_score(actual, prediction)\n",
    "    recall_ = recall_score(actual, prediction)\n",
    "    roc_auc_ = roc_auc_score(actual, prediction)\n",
    "\n",
    "    print('Accuracy : %.4f [TP / N] Proportion of predicted labels that match the true labels. Best: 1, Worst: 0' % accuracy_)\n",
    "    print('Precision: %.4f [TP / (TP + FP)] Not to label a negative sample as positive.        Best: 1, Worst: 0' % precision_)\n",
    "    print('Recall   : %.4f [TP / (TP + FN)] Find all the positive samples.                     Best: 1, Worst: 0' % recall_)\n",
    "    print('ROC AUC  : %.4f                                                                     Best: 1, Worst: < 0.5' % roc_auc_)\n",
    "    print('-' * 107)\n",
    "    print('TP: True Positives, FP: False Positives, TN: True Negatives, FN: False Negatives, N: Number of samples')\n",
    "\n",
    "    # Confusion Matrix\n",
    "    mat = confusion_matrix(actual, prediction)\n",
    "\n",
    "    # Precision/Recall\n",
    "    precision, recall, _ = precision_recall_curve(actual, prediction)\n",
    "    average_precision = average_precision_score(actual, prediction)\n",
    "    \n",
    "    # Compute ROC curve and ROC area\n",
    "    fpr, tpr, _ = roc_curve(actual, prediction)\n",
    "    roc_auc = auc(fpr, tpr)\n",
    "    \n",
    "\n",
    "    # plot\n",
    "    fig, ax = plt.subplots(1, 3, figsize = (18, 6))\n",
    "    fig.subplots_adjust(left = 0.02, right = 0.98, wspace = 0.2)\n",
    "\n",
    "    # Confusion Matrix\n",
    "    sns.heatmap(mat.T, square = True, annot = True, fmt = 'd', cbar = False, cmap = 'Blues', ax = ax[0])\n",
    "\n",
    "    ax[0].set_title('Confusion Matrix')\n",
    "    ax[0].set_xlabel('True label')\n",
    "    ax[0].set_ylabel('Predicted label')\n",
    "    \n",
    "    # Precision/Recall\n",
    "    step_kwargs = {'step': 'post'}\n",
    "    ax[1].step(recall, precision, color = 'b', alpha = 0.2, where = 'post')\n",
    "    ax[1].fill_between(recall, precision, alpha = 0.2, color = 'b', **step_kwargs)\n",
    "    ax[1].set_ylim([0.0, 1.0])\n",
    "    ax[1].set_xlim([0.0, 1.0])\n",
    "    ax[1].set_xlabel('Recall')\n",
    "    ax[1].set_ylabel('Precision')\n",
    "    ax[1].set_title('2-class Precision-Recall curve')\n",
    "\n",
    "    # ROC\n",
    "    ax[2].plot(fpr, tpr, color = 'darkorange', lw = 2, label = 'ROC curve (AUC = %0.2f)' % roc_auc)\n",
    "    ax[2].plot([0, 1], [0, 1], color = 'navy', lw = 2, linestyle = '--')\n",
    "    ax[2].set_xlim([0.0, 1.0])\n",
    "    ax[2].set_ylim([0.0, 1.0])\n",
    "    ax[2].set_xlabel('False Positive Rate')\n",
    "    ax[2].set_ylabel('True Positive Rate')\n",
    "    ax[2].set_title('Receiver Operating Characteristic')\n",
    "    ax[2].legend(loc = 'lower right')\n",
    "\n",
    "    plt.show()\n",
    "    \n",
    "    return (accuracy_, precision_, recall_, roc_auc_)"
   ]
  },
  {
   "cell_type": "code",
   "execution_count": 33,
   "id": "58b5d86c",
   "metadata": {
    "scrolled": false,
    "slideshow": {
     "slide_type": "subslide"
    }
   },
   "outputs": [
    {
     "name": "stdout",
     "output_type": "stream",
     "text": [
      "***************\n",
      "* Naive Bayes *\n",
      "***************\n",
      "Accuracy : 0.8500 [TP / N] Proportion of predicted labels that match the true labels. Best: 1, Worst: 0\n",
      "Precision: 0.8558 [TP / (TP + FP)] Not to label a negative sample as positive.        Best: 1, Worst: 0\n",
      "Recall   : 0.8418 [TP / (TP + FN)] Find all the positive samples.                     Best: 1, Worst: 0\n",
      "ROC AUC  : 0.8500                                                                     Best: 1, Worst: < 0.5\n",
      "-----------------------------------------------------------------------------------------------------------\n",
      "TP: True Positives, FP: False Positives, TN: True Negatives, FN: False Negatives, N: Number of samples\n"
     ]
    },
    {
     "data": {
      "image/png": "[encoded data removed]",
      "text/plain": [
       "<Figure size 1296x432 with 3 Axes>"
      ]
     },
     "metadata": {
      "needs_background": "light"
     },
     "output_type": "display_data"
    },
    {
     "name": "stdout",
     "output_type": "stream",
     "text": [
      "\n",
      "*****************\n",
      "* Decision Tree *\n",
      "*****************\n",
      "Accuracy : 0.7176 [TP / N] Proportion of predicted labels that match the true labels. Best: 1, Worst: 0\n",
      "Precision: 0.7192 [TP / (TP + FP)] Not to label a negative sample as positive.        Best: 1, Worst: 0\n",
      "Recall   : 0.7140 [TP / (TP + FN)] Find all the positive samples.                     Best: 1, Worst: 0\n",
      "ROC AUC  : 0.7176                                                                     Best: 1, Worst: < 0.5\n",
      "-----------------------------------------------------------------------------------------------------------\n",
      "TP: True Positives, FP: False Positives, TN: True Negatives, FN: False Negatives, N: Number of samples\n"
     ]
    },
    {
     "data": {
      "image/png": "[encoded data removed]",
      "text/plain": [
       "<Figure size 1296x432 with 3 Axes>"
      ]
     },
     "metadata": {
      "needs_background": "light"
     },
     "output_type": "display_data"
    },
    {
     "name": "stdout",
     "output_type": "stream",
     "text": [
      "\n",
      "*****************\n",
      "* Random Forest *\n",
      "*****************\n",
      "Accuracy : 0.8434 [TP / N] Proportion of predicted labels that match the true labels. Best: 1, Worst: 0\n",
      "Precision: 0.8491 [TP / (TP + FP)] Not to label a negative sample as positive.        Best: 1, Worst: 0\n",
      "Recall   : 0.8352 [TP / (TP + FN)] Find all the positive samples.                     Best: 1, Worst: 0\n",
      "ROC AUC  : 0.8434                                                                     Best: 1, Worst: < 0.5\n",
      "-----------------------------------------------------------------------------------------------------------\n",
      "TP: True Positives, FP: False Positives, TN: True Negatives, FN: False Negatives, N: Number of samples\n"
     ]
    },
    {
     "data": {
      "image/png": "[encoded data removed]",
      "text/plain": [
       "<Figure size 1296x432 with 3 Axes>"
      ]
     },
     "metadata": {
      "needs_background": "light"
     },
     "output_type": "display_data"
    },
    {
     "name": "stdout",
     "output_type": "stream",
     "text": [
      "\n",
      "***********************\n",
      "* Logistic Regression *\n",
      "***********************\n",
      "Accuracy : 0.8820 [TP / N] Proportion of predicted labels that match the true labels. Best: 1, Worst: 0\n",
      "Precision: 0.8780 [TP / (TP + FP)] Not to label a negative sample as positive.        Best: 1, Worst: 0\n",
      "Recall   : 0.8872 [TP / (TP + FN)] Find all the positive samples.                     Best: 1, Worst: 0\n",
      "ROC AUC  : 0.8820                                                                     Best: 1, Worst: < 0.5\n",
      "-----------------------------------------------------------------------------------------------------------\n",
      "TP: True Positives, FP: False Positives, TN: True Negatives, FN: False Negatives, N: Number of samples\n"
     ]
    },
    {
     "data": {
      "image/png": "[encoded data removed]",
      "text/plain": [
       "<Figure size 1296x432 with 3 Axes>"
      ]
     },
     "metadata": {
      "needs_background": "light"
     },
     "output_type": "display_data"
    },
    {
     "name": "stdout",
     "output_type": "stream",
     "text": [
      "\n",
      "******************\n",
      "* SGD Classifier *\n",
      "******************\n",
      "Accuracy : 0.8811 [TP / N] Proportion of predicted labels that match the true labels. Best: 1, Worst: 0\n",
      "Precision: 0.8742 [TP / (TP + FP)] Not to label a negative sample as positive.        Best: 1, Worst: 0\n",
      "Recall   : 0.8903 [TP / (TP + FN)] Find all the positive samples.                     Best: 1, Worst: 0\n",
      "ROC AUC  : 0.8811                                                                     Best: 1, Worst: < 0.5\n",
      "-----------------------------------------------------------------------------------------------------------\n",
      "TP: True Positives, FP: False Positives, TN: True Negatives, FN: False Negatives, N: Number of samples\n"
     ]
    },
    {
     "data": {
      "image/png": "[encoded data removed]",
      "text/plain": [
       "<Figure size 1296x432 with 3 Axes>"
      ]
     },
     "metadata": {
      "needs_background": "light"
     },
     "output_type": "display_data"
    },
    {
     "name": "stdout",
     "output_type": "stream",
     "text": [
      "\n",
      "************\n",
      "* ADABoost *\n",
      "************\n",
      "Accuracy : 0.8109 [TP / N] Proportion of predicted labels that match the true labels. Best: 1, Worst: 0\n",
      "Precision: 0.7914 [TP / (TP + FP)] Not to label a negative sample as positive.        Best: 1, Worst: 0\n",
      "Recall   : 0.8445 [TP / (TP + FN)] Find all the positive samples.                     Best: 1, Worst: 0\n",
      "ROC AUC  : 0.8109                                                                     Best: 1, Worst: < 0.5\n",
      "-----------------------------------------------------------------------------------------------------------\n",
      "TP: True Positives, FP: False Positives, TN: True Negatives, FN: False Negatives, N: Number of samples\n"
     ]
    },
    {
     "data": {
      "image/png": "[encoded data removed]",
      "text/plain": [
       "<Figure size 1296x432 with 3 Axes>"
      ]
     },
     "metadata": {
      "needs_background": "light"
     },
     "output_type": "display_data"
    },
    {
     "name": "stdout",
     "output_type": "stream",
     "text": [
      "\n"
     ]
    }
   ],
   "source": [
    "# Keep the results in a dataframe\n",
    "results = pd.DataFrame(columns = ['Model', 'Accuracy', 'Precision', 'Recall', 'ROC_AUC'])\n",
    "\n",
    "models = ['Naive Bayes','Decision Tree','Random Forest','Logistic Regression','SGD Classifier','ADABoost']\n",
    "for i, m in enumerate([pipelineNB,pipelineDT,pipelineRF,pipelineLR,pipelineSGD,pipelineADA]):\n",
    "    print('*' * (len(models[i]) + 4))\n",
    "    print('* %s *' % models[i])\n",
    "    print('*' * (len(models[i]) + 4))\n",
    "    predictions = m.predict(msg_test)\n",
    "    # show the report\n",
    "    accuracy_, precision_, recall_, roc_auc_ = show_summary_report(label_test, predictions)\n",
    "    # keep the results\n",
    "    results.loc[i] = {'Model': models[i], \n",
    "                      'Accuracy': accuracy_, \n",
    "                      'Precision': precision_,\n",
    "                      'Recall': recall_,\n",
    "                      'ROC_AUC': roc_auc_}\n",
    "    print()\n",
    "    "
   ]
  },
  {
   "cell_type": "code",
   "execution_count": 34,
   "id": "4c122480",
   "metadata": {
    "scrolled": true,
    "slideshow": {
     "slide_type": "subslide"
    }
   },
   "outputs": [
    {
     "data": {
      "text/html": [
       "<div>\n",
       "<style scoped>\n",
       "    .dataframe tbody tr th:only-of-type {\n",
       "        vertical-align: middle;\n",
       "    }\n",
       "\n",
       "    .dataframe tbody tr th {\n",
       "        vertical-align: top;\n",
       "    }\n",
       "\n",
       "    .dataframe thead th {\n",
       "        text-align: right;\n",
       "    }\n",
       "</style>\n",
       "<table border=\"1\" class=\"dataframe\">\n",
       "  <thead>\n",
       "    <tr style=\"text-align: right;\">\n",
       "      <th></th>\n",
       "      <th>Model</th>\n",
       "      <th>Accuracy</th>\n",
       "      <th>Precision</th>\n",
       "      <th>Recall</th>\n",
       "      <th>ROC_AUC</th>\n",
       "    </tr>\n",
       "  </thead>\n",
       "  <tbody>\n",
       "    <tr>\n",
       "      <th>0</th>\n",
       "      <td>Naive Bayes</td>\n",
       "      <td>0.84996</td>\n",
       "      <td>0.855795</td>\n",
       "      <td>0.84176</td>\n",
       "      <td>0.84996</td>\n",
       "    </tr>\n",
       "    <tr>\n",
       "      <th>1</th>\n",
       "      <td>Decision Tree</td>\n",
       "      <td>0.71760</td>\n",
       "      <td>0.719178</td>\n",
       "      <td>0.71400</td>\n",
       "      <td>0.71760</td>\n",
       "    </tr>\n",
       "    <tr>\n",
       "      <th>2</th>\n",
       "      <td>Random Forest</td>\n",
       "      <td>0.84336</td>\n",
       "      <td>0.849057</td>\n",
       "      <td>0.83520</td>\n",
       "      <td>0.84336</td>\n",
       "    </tr>\n",
       "    <tr>\n",
       "      <th>3</th>\n",
       "      <td>Logistic Regression</td>\n",
       "      <td>0.88196</td>\n",
       "      <td>0.877999</td>\n",
       "      <td>0.88720</td>\n",
       "      <td>0.88196</td>\n",
       "    </tr>\n",
       "    <tr>\n",
       "      <th>4</th>\n",
       "      <td>SGD Classifier</td>\n",
       "      <td>0.88112</td>\n",
       "      <td>0.874234</td>\n",
       "      <td>0.89032</td>\n",
       "      <td>0.88112</td>\n",
       "    </tr>\n",
       "    <tr>\n",
       "      <th>5</th>\n",
       "      <td>ADABoost</td>\n",
       "      <td>0.81092</td>\n",
       "      <td>0.791364</td>\n",
       "      <td>0.84448</td>\n",
       "      <td>0.81092</td>\n",
       "    </tr>\n",
       "  </tbody>\n",
       "</table>\n",
       "</div>"
      ],
      "text/plain": [
       "                 Model  Accuracy  Precision   Recall  ROC_AUC\n",
       "0          Naive Bayes   0.84996   0.855795  0.84176  0.84996\n",
       "1        Decision Tree   0.71760   0.719178  0.71400  0.71760\n",
       "2        Random Forest   0.84336   0.849057  0.83520  0.84336\n",
       "3  Logistic Regression   0.88196   0.877999  0.88720  0.88196\n",
       "4       SGD Classifier   0.88112   0.874234  0.89032  0.88112\n",
       "5             ADABoost   0.81092   0.791364  0.84448  0.81092"
      ]
     },
     "execution_count": 34,
     "metadata": {},
     "output_type": "execute_result"
    }
   ],
   "source": [
    "results"
   ]
  },
  {
   "cell_type": "markdown",
   "id": "0edf082b",
   "metadata": {
    "slideshow": {
     "slide_type": "slide"
    }
   },
   "source": [
    "# Test  couple of Reviews"
   ]
  },
  {
   "cell_type": "code",
   "execution_count": 36,
   "id": "a61b5e83",
   "metadata": {
    "slideshow": {
     "slide_type": "subslide"
    }
   },
   "outputs": [
    {
     "name": "stdout",
     "output_type": "stream",
     "text": [
      "Pos prediction: [1]\n"
     ]
    }
   ],
   "source": [
    "pos = [\"I've seen this story before but my kids haven't. Boy with troubled past joins military, faces his past, falls in love and becomes a man. \"\n",
    "       \"The mentor this time is played perfectly by Kevin Costner; An ordinary man with common everyday problems who lives an extraordinary \"\n",
    "       \"conviction, to save lives. After losing his team he takes a teaching position training the next generation of heroes. The young troubled \"\n",
    "       \"recruit is played by Kutcher. While his scenes with the local love interest are a tad stiff and don't generate enough heat to melt butter, \"\n",
    "       \"he compliments Costner well. I never really understood Sela Ward as the neglected wife and felt she should of wanted Costner to quit out of \"\n",
    "       \"concern for his safety as opposed to her selfish needs. But her presence on screen is a pleasure. The two unaccredited stars of this movie \"\n",
    "       \"are the Coast Guard and the Sea. Both powerful forces which should not be taken for granted in real life or this movie. The movie has some \"\n",
    "       \"slow spots and could have used the wasted 15 minutes to strengthen the character relationships. But it still works. The rescue scenes are \"\n",
    "       \"intense and well filmed and edited to provide maximum impact. This movie earns the audience applause. And the applause of my two sons.\"]\n",
    "\n",
    "print(\"Pos prediction: {}\". format(pipelineLR.predict((pos))))"
   ]
  },
  {
   "cell_type": "code",
   "execution_count": 37,
   "id": "81790778",
   "metadata": {
    "slideshow": {
     "slide_type": "subslide"
    }
   },
   "outputs": [
    {
     "name": "stdout",
     "output_type": "stream",
     "text": [
      "Neg prediction: [0]\n"
     ]
    }
   ],
   "source": [
    "neg = [\"David Bryce\\'s comments nearby are exceptionally well written and informative as almost say everything \"\n",
    "       \"I feel about DARLING LILI. This massive musical is so peculiar and over blown, over produced and must have \"\n",
    "       \"caused ruptures at Paramount in 1970. It cost 22 million dollars! That is simply irresponsible. DARLING LILI \"\n",
    "       \"must have been greenlit from a board meeting that said \\\"hey we got that Pink Panther guy and that Sound Of Music gal... \"\n",
    "       \"lets get this too\\\" and handed over a blank cheque. The result is a hybrid of GIGI, ZEPPELIN, HALF A SIXPENCE, some MGM 40s \"\n",
    "       \"song and dance numbers of a style (daisies and boaters!) so hopelessly old fashioned as to be like musical porridge, and MATA HARI \"\n",
    "       \"dramatics. The production is colossal, lush, breathtaking to view, but the rest: the ridiculous romance, Julie looking befuddled, Hudson \"\n",
    "       \"already dead, the mistimed comedy, and the astoundingly boring songs deaden this spectacular film into being irritating. LILI is\"\n",
    "       \" like a twee 1940s mega musical with some vulgar bits to spice it up. STAR! released the year before sadly crashed and now is being \"\n",
    "       \"finally appreciated for the excellent film is genuinely is... and Andrews looks sublime, mature, especially in the last half hour......\"\n",
    "       \"but LILI is POPPINS and DOLLY frilly and I believe really killed off the mega musical binge of the 60s..... \"\n",
    "       \"and made Andrews look like Poppins again... which I believe was not Edwards intention. Paramount must have collectively fainted \"\n",
    "       \"when they saw this: and with another $20 million festering in CATCH 22, and $12 million in ON A CLEAR DAY and $25 million in PAINT YOUR WAGON....\"\n",
    "       \"they had a financial abyss of CLEOPATRA proportions with $77 million tied into 4 films with very uncertain futures. Maybe they should have asked seer \"\n",
    "       \"Daisy Gamble from ON A CLEAR DAY ......LILI was very popular on immediate first release in Australia and ran in 70mm cinemas for months but it failed \"\n",
    "       \"once out in the subs and the sticks and only ever surfaced after that on one night stands with ON A CLEAR DAY as a Sunday night double. Thank \"\n",
    "       \"god Paramount had their simple $1million (yes, ONE MILLION DOLLAR) film LOVE STORY and that $4 million dollar gangster pic THE GODFATHER \"\n",
    "       \"also ready to recover all the $77 million in just the next two years....for just $5m.... incredible!\"]\n",
    "\n",
    "print(\"Neg prediction: {}\". format(pipelineLR.predict((neg))))"
   ]
  },
  {
   "cell_type": "markdown",
   "id": "984fbc0f",
   "metadata": {
    "slideshow": {
     "slide_type": "subslide"
    }
   },
   "source": [
    "# As you can see the above 2 reviews have been classified correctly "
   ]
  },
  {
   "cell_type": "code",
   "execution_count": null,
   "id": "acf30d24",
   "metadata": {
    "slideshow": {
     "slide_type": "slide"
    }
   },
   "outputs": [],
   "source": [
    "## End of Part 2 ##"
   ]
  }
 ],
 "metadata": {
  "celltoolbar": "Slideshow",
  "kernelspec": {
   "display_name": "Python 3",
   "language": "python",
   "name": "python3"
  },
  "language_info": {
   "codemirror_mode": {
    "name": "ipython",
    "version": 3
   },
   "file_extension": ".py",
   "mimetype": "text/x-python",
   "name": "python",
   "nbconvert_exporter": "python",
   "pygments_lexer": "ipython3",
   "version": "3.8.8"
  }
 },
 "nbformat": 4,
 "nbformat_minor": 5
}
